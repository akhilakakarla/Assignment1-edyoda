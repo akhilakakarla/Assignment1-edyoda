{
 "cells": [
  {
   "cell_type": "code",
   "execution_count": 1,
   "id": "f10f2af0",
   "metadata": {},
   "outputs": [
    {
     "name": "stdout",
     "output_type": "stream",
     "text": [
      "x10\n",
      "n2\n",
      "100\n"
     ]
    }
   ],
   "source": [
    "class Power:\n",
    "    def pow(self,x,n):\n",
    "        k=1\n",
    "        for i in range(0,n):\n",
    "            k=k*x\n",
    "        return(k)\n",
    "x=int(input(\"x\"))\n",
    "n=int(input(\"n\"))\n",
    "p1=Power()\n",
    "print(p1.pow(x,n))\n",
    "            "
   ]
  },
  {
   "cell_type": "code",
   "execution_count": null,
   "id": "fda987e3",
   "metadata": {},
   "outputs": [],
   "source": []
  }
 ],
 "metadata": {
  "kernelspec": {
   "display_name": "Python 3 (ipykernel)",
   "language": "python",
   "name": "python3"
  },
  "language_info": {
   "codemirror_mode": {
    "name": "ipython",
    "version": 3
   },
   "file_extension": ".py",
   "mimetype": "text/x-python",
   "name": "python",
   "nbconvert_exporter": "python",
   "pygments_lexer": "ipython3",
   "version": "3.10.1"
  }
 },
 "nbformat": 4,
 "nbformat_minor": 5
}
