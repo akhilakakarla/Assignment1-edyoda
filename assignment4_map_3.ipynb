{
 "cells": [
  {
   "cell_type": "code",
   "execution_count": 1,
   "id": "c50bac6e",
   "metadata": {},
   "outputs": [
    {
     "name": "stdout",
     "output_type": "stream",
     "text": [
      "Enter number of elements in a List: 7\n",
      "enter ele: 1\n",
      "enter ele: 2\n",
      "enter ele: 3\n",
      "enter ele: 4\n",
      "enter ele: 5\n",
      "enter ele: 6\n",
      "enter ele: 7\n",
      "Triple of list numbers:\n",
      "[3, 6, 9, 12, 15, 18, 21]\n"
     ]
    }
   ],
   "source": [
    "list1 = []\n",
    "n =int(input(\"Enter number of elements in a List: \"))\n",
    "for i in range(0,n):\n",
    "    ele = int(input(\"enter ele: \"))\n",
    "    list1.append(ele)\n",
    "squares = list(map(lambda x: x*3,list1))\n",
    "print(\"Triple of list numbers:\")\n",
    "print(squares)\n"
   ]
  },
  {
   "cell_type": "code",
   "execution_count": null,
   "id": "523f2ad1",
   "metadata": {},
   "outputs": [],
   "source": []
  }
 ],
 "metadata": {
  "kernelspec": {
   "display_name": "Python 3 (ipykernel)",
   "language": "python",
   "name": "python3"
  },
  "language_info": {
   "codemirror_mode": {
    "name": "ipython",
    "version": 3
   },
   "file_extension": ".py",
   "mimetype": "text/x-python",
   "name": "python",
   "nbconvert_exporter": "python",
   "pygments_lexer": "ipython3",
   "version": "3.10.1"
  }
 },
 "nbformat": 4,
 "nbformat_minor": 5
}
