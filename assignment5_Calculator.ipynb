{
 "cells": [
  {
   "cell_type": "code",
   "execution_count": 1,
   "id": "8fb80fbe",
   "metadata": {},
   "outputs": [
    {
     "name": "stdout",
     "output_type": "stream",
     "text": [
      "Num1=10\n",
      "Num2=94\n",
      "104\n",
      "84\n",
      "940\n",
      "9.4\n"
     ]
    }
   ],
   "source": [
    "class Calculator:\n",
    "    def __init__(self,num1,num2):\n",
    "        self.num1=num1\n",
    "        self.num2=num2\n",
    "    def add(self):\n",
    "        return(self.num1+self.num2)\n",
    "    def subtract(self):\n",
    "        return(self.num2-self.num1)\n",
    "    def multiply(self):\n",
    "        return(self.num2*self.num1)\n",
    "    def divide(self):\n",
    "        return(self.num2/self.num1)\n",
    "    \n",
    "    \n",
    "num1=int(input(\"Num1=\"))\n",
    "num2=int(input(\"Num2=\"))\n",
    "c1=Calculator(num1,num2)\n",
    "print(c1.add())\n",
    "print(c1.subtract())\n",
    "print(c1.multiply())\n",
    "print(c1.divide())"
   ]
  },
  {
   "cell_type": "code",
   "execution_count": null,
   "id": "4498b701",
   "metadata": {},
   "outputs": [],
   "source": []
  }
 ],
 "metadata": {
  "kernelspec": {
   "display_name": "Python 3 (ipykernel)",
   "language": "python",
   "name": "python3"
  },
  "language_info": {
   "codemirror_mode": {
    "name": "ipython",
    "version": 3
   },
   "file_extension": ".py",
   "mimetype": "text/x-python",
   "name": "python",
   "nbconvert_exporter": "python",
   "pygments_lexer": "ipython3",
   "version": "3.10.1"
  }
 },
 "nbformat": 4,
 "nbformat_minor": 5
}
