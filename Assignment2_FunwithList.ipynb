{
 "cells": [
  {
   "cell_type": "code",
   "execution_count": 1,
   "id": "5b44a636",
   "metadata": {},
   "outputs": [
    {
     "name": "stdout",
     "output_type": "stream",
     "text": [
      "LEN:5\n",
      "enter tuple:  1\n",
      "first element:2\n",
      "second element:5\n",
      "enter tuple:  2\n",
      "first element:1\n",
      "second element:2\n",
      "enter tuple:  3\n",
      "first element:4\n",
      "second element:4\n",
      "enter tuple:  4\n",
      "first element:2\n",
      "second element:3\n",
      "enter tuple:  5\n",
      "first element:2\n",
      "second element:1\n",
      "[(2, 1), (1, 2), (2, 3), (4, 4), (2, 5)]\n"
     ]
    }
   ],
   "source": [
    "n=int(input(\"LEN:\"))\n",
    "lst=[]\n",
    "for i in range(n):\n",
    "    k=[]\n",
    "    print(\"enter tuple: \",i+1)\n",
    "    k.append(int(input(\"first element:\")))\n",
    "    k.append(int(input(\"second element:\")))\n",
    "    lst.append(tuple(k))\n",
    "def last_element(t):\n",
    "    return t[-1]\n",
    "def sort(lst1):\n",
    "    return sorted(lst1, key = last_element)\n",
    "print(sort(lst))\n"
   ]
  },
  {
   "cell_type": "code",
   "execution_count": null,
   "id": "3d0ecad8",
   "metadata": {},
   "outputs": [],
   "source": []
  }
 ],
 "metadata": {
  "kernelspec": {
   "display_name": "Python 3 (ipykernel)",
   "language": "python",
   "name": "python3"
  },
  "language_info": {
   "codemirror_mode": {
    "name": "ipython",
    "version": 3
   },
   "file_extension": ".py",
   "mimetype": "text/x-python",
   "name": "python",
   "nbconvert_exporter": "python",
   "pygments_lexer": "ipython3",
   "version": "3.10.1"
  }
 },
 "nbformat": 4,
 "nbformat_minor": 5
}
