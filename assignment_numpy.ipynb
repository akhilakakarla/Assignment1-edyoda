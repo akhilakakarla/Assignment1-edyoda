{
 "cells": [
  {
   "cell_type": "code",
   "execution_count": 1,
   "id": "2054bc18",
   "metadata": {},
   "outputs": [],
   "source": [
    "import numpy as np"
   ]
  },
  {
   "cell_type": "code",
   "execution_count": 5,
   "id": "bd004520",
   "metadata": {},
   "outputs": [
    {
     "name": "stdout",
     "output_type": "stream",
     "text": [
      "[0 0 0 0 1 0 0 0 0 0]\n"
     ]
    }
   ],
   "source": [
    "#1. Create a null vector of size 10 but the fifth value which is 1.\n",
    "a=np.zeros(10).astype('int')\n",
    "a[4]=1\n",
    "print(a)"
   ]
  },
  {
   "cell_type": "code",
   "execution_count": 8,
   "id": "094a3235",
   "metadata": {},
   "outputs": [
    {
     "name": "stdout",
     "output_type": "stream",
     "text": [
      "[10 11 12 13 14 15 16 17 18 19 20 21 22 23 24 25 26 27 28 29 30 31 32 33\n",
      " 34 35 36 37 38 39 40 41 42 43 44 45 46 47 48 49]\n"
     ]
    }
   ],
   "source": [
    "#2. Create a vector with values ranging from 10 to 49.\n",
    "b=np.arange(10,50)\n",
    "print(b)"
   ]
  },
  {
   "cell_type": "code",
   "execution_count": 15,
   "id": "ca787a3f",
   "metadata": {},
   "outputs": [
    {
     "data": {
      "text/plain": [
       "array([[2, 1, 3],\n",
       "       [7, 5, 2],\n",
       "       [0, 1, 4]])"
      ]
     },
     "execution_count": 15,
     "metadata": {},
     "output_type": "execute_result"
    }
   ],
   "source": [
    "#3. Create a 3x3 matrix with values ranging from 0 to 8\n",
    "c=np.random.randint(0,8,(3,3))\n",
    "c"
   ]
  },
  {
   "cell_type": "code",
   "execution_count": 16,
   "id": "c5dd5637",
   "metadata": {},
   "outputs": [
    {
     "data": {
      "text/plain": [
       "(array([0, 1, 4], dtype=int64),)"
      ]
     },
     "execution_count": 16,
     "metadata": {},
     "output_type": "execute_result"
    }
   ],
   "source": [
    "#4. Find indices of non-zero elements from [1,2,0,0,4,0]\n",
    "d=np.array([1,2,0,0,4,0])\n",
    "d.nonzero()\n"
   ]
  },
  {
   "cell_type": "code",
   "execution_count": 31,
   "id": "3f8a0f4f",
   "metadata": {},
   "outputs": [
    {
     "name": "stdout",
     "output_type": "stream",
     "text": [
      "Matrix [[ 0.44122749 -0.33087015  2.43077119 -0.25209213  0.10960984  1.58248112\n",
      "  -0.9092324  -0.59163666  0.18760323 -0.32986996]\n",
      " [-1.19276461 -0.20487651 -0.35882895  0.6034716  -1.66478853 -0.70017904\n",
      "   1.15139101  1.85733101 -1.51117956  0.64484751]\n",
      " [-0.98060789 -0.85685315 -0.87187918 -0.42250793  0.99643983  0.71242127\n",
      "   0.05914424 -0.36331088  0.00328884 -0.10593044]\n",
      " [ 0.79305332 -0.63157163 -0.00619491 -0.10106761 -0.05230815  0.24921766\n",
      "   0.19766009  1.33484857 -0.08687561  1.56153229]\n",
      " [-0.30585302 -0.47773142  0.10073819  0.35543847  0.26961241  1.29196338\n",
      "   1.13934298  0.4944404  -0.33633626 -0.10061435]\n",
      " [ 1.41339802  0.22125412 -1.31077313 -0.68956523 -0.57751323  1.15220477\n",
      "  -0.10716398  2.26010677  0.65661947  0.12480683]\n",
      " [-0.43570392  0.97217931 -0.24071114 -0.82412345  0.56813272  0.01275832\n",
      "   1.18906073 -0.07359332 -2.85968797  0.7893664 ]\n",
      " [-1.87774088  1.53875615  1.82136474 -0.42703139 -1.16470191 -1.39707402\n",
      "   0.87265462 -0.20211818 -0.59835993 -0.2434197 ]\n",
      " [ 2.08851469  0.34691933  0.74572695  0.77690759  1.01842113  1.06135144\n",
      "  -0.71046645 -0.2151878  -0.76076031 -0.71116323]\n",
      " [ 1.14150774 -0.50175555 -0.07915136 -0.69282634 -0.59340277  0.78823794\n",
      "  -0.44542999 -0.48212019  0.49355766  0.50048733]] \n",
      " Minmum :  -2.859687966622556 \n",
      " Maximum :  2.43077118700778\n"
     ]
    }
   ],
   "source": [
    "#5. Create a 10x10 array with random values and find the minimum and maximum values.\n",
    "np.random.seed(5)\n",
    "e=np.random.randn(10,10)\n",
    "print('Matrix',e,'\\n','Minmum : ',e.min(),'\\n','Maximum : ',e.max())"
   ]
  },
  {
   "cell_type": "code",
   "execution_count": 33,
   "id": "41019327",
   "metadata": {},
   "outputs": [
    {
     "name": "stdout",
     "output_type": "stream",
     "text": [
      "mean values is 5.233\n"
     ]
    }
   ],
   "source": [
    "#6. Create a random vector of size 30 and find the mean value.\n",
    "f=np.random.randint(1,10,(5,6))\n",
    "print('mean values is %.3f'%f.mean())"
   ]
  },
  {
   "cell_type": "code",
   "execution_count": null,
   "id": "c28164bf",
   "metadata": {},
   "outputs": [],
   "source": []
  }
 ],
 "metadata": {
  "kernelspec": {
   "display_name": "Python 3 (ipykernel)",
   "language": "python",
   "name": "python3"
  },
  "language_info": {
   "codemirror_mode": {
    "name": "ipython",
    "version": 3
   },
   "file_extension": ".py",
   "mimetype": "text/x-python",
   "name": "python",
   "nbconvert_exporter": "python",
   "pygments_lexer": "ipython3",
   "version": "3.8.0"
  }
 },
 "nbformat": 4,
 "nbformat_minor": 5
}
