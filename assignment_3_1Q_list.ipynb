{
 "cells": [
  {
   "cell_type": "code",
   "execution_count": 1,
   "id": "681afe3f",
   "metadata": {},
   "outputs": [
    {
     "name": "stdout",
     "output_type": "stream",
     "text": [
      "enter no of elements5\n",
      "element-8\n",
      "element-2\n",
      "element-3\n",
      "element-0\n",
      "element-7\n",
      "20\n"
     ]
    }
   ],
   "source": [
    "list=[]\n",
    "n=int(input(\"enter no of elements\"))\n",
    "for i in range(0,n):\n",
    "    ele=int(input(\"element-\"))\n",
    "    list.append(ele)\n",
    "\n",
    "def sum(numbers):\n",
    "    total=0\n",
    "    for i in numbers:\n",
    "        total+=i\n",
    "    return total\n",
    "print(sum(list))"
   ]
  },
  {
   "cell_type": "code",
   "execution_count": null,
   "id": "4e5d8125",
   "metadata": {},
   "outputs": [],
   "source": []
  }
 ],
 "metadata": {
  "kernelspec": {
   "display_name": "Python 3 (ipykernel)",
   "language": "python",
   "name": "python3"
  },
  "language_info": {
   "codemirror_mode": {
    "name": "ipython",
    "version": 3
   },
   "file_extension": ".py",
   "mimetype": "text/x-python",
   "name": "python",
   "nbconvert_exporter": "python",
   "pygments_lexer": "ipython3",
   "version": "3.10.1"
  }
 },
 "nbformat": 4,
 "nbformat_minor": 5
}
