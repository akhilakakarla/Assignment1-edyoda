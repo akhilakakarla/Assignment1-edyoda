{
 "cells": [
  {
   "cell_type": "code",
   "execution_count": 1,
   "id": "44861437",
   "metadata": {},
   "outputs": [
    {
     "name": "stdout",
     "output_type": "stream",
     "text": [
      "The quick Brow Fox\n",
      "No. of Upper case characters : 3\n",
      "No. of Lower case characters : 12\n"
     ]
    }
   ],
   "source": [
    "def str(s):\n",
    "    d={\"upper\":0,\"lower\":0}\n",
    "    for char in s:\n",
    "        if char.isupper():\n",
    "            d[\"upper\"]+=1\n",
    "        if char.islower():\n",
    "            d[\"lower\"]+=1\n",
    "    print(\"No. of Upper case characters :\",d[\"upper\"])\n",
    "    print(\"No. of Lower case characters :\",d[\"lower\"])\n",
    "s=input()\n",
    "str(s)\n",
    "        "
   ]
  },
  {
   "cell_type": "code",
   "execution_count": null,
   "id": "da7eae07",
   "metadata": {},
   "outputs": [],
   "source": []
  }
 ],
 "metadata": {
  "kernelspec": {
   "display_name": "Python 3 (ipykernel)",
   "language": "python",
   "name": "python3"
  },
  "language_info": {
   "codemirror_mode": {
    "name": "ipython",
    "version": 3
   },
   "file_extension": ".py",
   "mimetype": "text/x-python",
   "name": "python",
   "nbconvert_exporter": "python",
   "pygments_lexer": "ipython3",
   "version": "3.10.1"
  }
 },
 "nbformat": 4,
 "nbformat_minor": 5
}
