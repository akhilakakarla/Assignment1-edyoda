{
 "cells": [
  {
   "cell_type": "code",
   "execution_count": 7,
   "id": "3195ac12",
   "metadata": {
    "scrolled": false
   },
   "outputs": [
    {
     "name": "stdout",
     "output_type": "stream",
     "text": [
      "50\n",
      "0 1 1 2 3 5 8 13 21 34 "
     ]
    }
   ],
   "source": [
    "a = 0\n",
    "b = 1\n",
    "c = a+b\n",
    "input_val = int(input())\n",
    "if(input_val==0):\n",
    "    print(a)\n",
    "elif(input_val==1):\n",
    "    print(a,b)\n",
    "elif(input_val<0):\n",
    "    print(\"Enter correct input\")\n",
    "else:\n",
    "    print(a,end=\" \")\n",
    "    print(b,end=\" \")\n",
    "    while c <= input_val:\n",
    "        print(c, end=\" \")\n",
    "        a=b\n",
    "        b=c\n",
    "        c=a+b"
   ]
  },
  {
   "cell_type": "code",
   "execution_count": null,
   "id": "e5499267",
   "metadata": {},
   "outputs": [],
   "source": []
  }
 ],
 "metadata": {
  "kernelspec": {
   "display_name": "Python 3 (ipykernel)",
   "language": "python",
   "name": "python3"
  },
  "language_info": {
   "codemirror_mode": {
    "name": "ipython",
    "version": 3
   },
   "file_extension": ".py",
   "mimetype": "text/x-python",
   "name": "python",
   "nbconvert_exporter": "python",
   "pygments_lexer": "ipython3",
   "version": "3.10.1"
  }
 },
 "nbformat": 4,
 "nbformat_minor": 5
}
